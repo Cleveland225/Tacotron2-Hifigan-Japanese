{
 "cells": [
  {
   "cell_type": "markdown",
   "id": "28d9a0e5",
   "metadata": {},
   "source": [
    "#### Install requirements"
   ]
  },
  {
   "cell_type": "code",
   "execution_count": null,
   "id": "f5ba8906-5257-4293-960c-853b8b3c6dff",
   "metadata": {},
   "outputs": [],
   "source": [
    "!pip install librosa==0.8.0\n",
    "!pip install pysoundfile==0.9.0.post1\n",
    "!pip install unidecode==1.3.4\n",
    "!pip install pyopenjtalk==0.2.0\n",
    "!pip install inflect==5.6.2\n",
    "!pip install janome==0.4.2"
   ]
  },
  {
   "cell_type": "markdown",
   "id": "75498eeb",
   "metadata": {},
   "source": [
    "#### Train without pretrained model"
   ]
  },
  {
   "cell_type": "code",
   "execution_count": null,
   "id": "d5f5590e-1817-4665-9bdf-1ff06c0f7f96",
   "metadata": {},
   "outputs": [],
   "source": [
    "!python train.py --output_directory=outdir --log_directory=logdir"
   ]
  },
  {
   "cell_type": "markdown",
   "id": "e673209c",
   "metadata": {},
   "source": [
    "#### Train with a pretrained model"
   ]
  },
  {
   "cell_type": "code",
   "execution_count": null,
   "id": "d5f5590e-1817-4665-9bdf-1ff06c0f7f96",
   "metadata": {},
   "outputs": [],
   "source": [
    "!python train.py --output_directory=outdir --log_directory=logdir -c tacotron2_statedict.pt --warm_start"
   ]
  }
 ],
 "metadata": {
  "kernelspec": {
   "display_name": "Python 3.10.2 64-bit",
   "language": "python",
   "name": "python3"
  },
  "language_info": {
   "codemirror_mode": {
    "name": "ipython",
    "version": 3
   },
   "file_extension": ".py",
   "mimetype": "text/x-python",
   "name": "python",
   "nbconvert_exporter": "python",
   "pygments_lexer": "ipython3",
   "version": "3.10.2"
  },
  "vscode": {
   "interpreter": {
    "hash": "d99a3f7b344b3c3107482760db15f42178bfad658d282ab0a919b76809e13cb5"
   }
  }
 },
 "nbformat": 4,
 "nbformat_minor": 5
}
